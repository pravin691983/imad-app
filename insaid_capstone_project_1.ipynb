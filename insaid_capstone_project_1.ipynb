{
  "nbformat": 4,
  "nbformat_minor": 0,
  "metadata": {
    "colab": {
      "name": " insaid-capstone_project_1.ipynb",
      "provenance": [],
      "collapsed_sections": [],
      "authorship_tag": "ABX9TyPrYnTqtAbK0Kj630q+oKMQ",
      "include_colab_link": true
    },
    "kernelspec": {
      "name": "python3",
      "display_name": "Python 3"
    }
  },
  "cells": [
    {
      "cell_type": "markdown",
      "metadata": {
        "id": "view-in-github",
        "colab_type": "text"
      },
      "source": [
        "<a href=\"https://colab.research.google.com/github/pravin691983/imad-app/blob/master/insaid_capstone_project_1.ipynb\" target=\"_parent\"><img src=\"https://colab.research.google.com/assets/colab-badge.svg\" alt=\"Open In Colab\"/></a>"
      ]
    },
    {
      "cell_type": "code",
      "metadata": {
        "id": "o8jtXZD7lLJ2",
        "colab_type": "code",
        "colab": {}
      },
      "source": [
        ""
      ],
      "execution_count": 0,
      "outputs": []
    },
    {
      "cell_type": "markdown",
      "metadata": {
        "id": "iCLkqnRalNBt",
        "colab_type": "text"
      },
      "source": [
        "**INSAID - Capstone Project on Data Analytics**"
      ]
    },
    {
      "cell_type": "code",
      "metadata": {
        "id": "3AluxNLclYv8",
        "colab_type": "code",
        "colab": {
          "base_uri": "https://localhost:8080/",
          "height": 34
        },
        "outputId": "e2330fb8-02a9-4833-d1be-71da06e7ec2e"
      },
      "source": [
        "print(\"Welcome to INSAID - Capstone Project on Data Analytics\")"
      ],
      "execution_count": 1,
      "outputs": [
        {
          "output_type": "stream",
          "text": [
            "Welcome to INSAID - Capstone Project on Data Analytics\n"
          ],
          "name": "stdout"
        }
      ]
    }
  ]
}